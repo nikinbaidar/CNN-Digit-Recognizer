{
 "cells": [
  {
   "cell_type": "code",
   "execution_count": 8,
   "id": "8d280129",
   "metadata": {
    "init_cell": true
   },
   "outputs": [],
   "source": [
    "import pandas as pd\n",
    "import numpy as np\n",
    "from matplotlib import pyplot as plt\n",
    "from matplotlib import figure as fig\n",
    "\n",
    "import random\n",
    "\n",
    "\n",
    "from sklearn.utils import shuffle\n",
    "\n",
    "from sklearn.model_selection import train_test_split\n",
    "\n",
    "from tensorflow.keras.utils import to_categorical\n",
    "\n",
    "from keras.preprocessing.image import img_to_array\n",
    "from keras.preprocessing.image import array_to_img\n",
    "\n",
    "from skimage.util import img_as_float\n",
    "from skimage.util import img_as_ubyte\n",
    "\n",
    "# Models\n",
    "from keras.models import Sequential\n",
    "from keras.models import Model\n",
    "\n",
    "# Layers\n",
    "from keras.layers import Conv2D\n",
    "from keras.layers import MaxPooling2D\n",
    "from keras.layers import GlobalMaxPooling2D\n",
    "from keras.layers import Flatten\n",
    "from keras.layers import Dense\n",
    "from keras.layers import Dropout\n",
    "\n",
    "# Activation functions\n",
    "from keras.layers import ReLU\n",
    "from keras.layers import LeakyReLU\n",
    "from keras.layers import PReLU\n",
    "from keras.layers import Softmax\n",
    "\n",
    "# Callbacks\n",
    "from keras.callbacks import EarlyStopping\n",
    "\n",
    "# Optimizers\n",
    "from tensorflow.keras.optimizers import SGD\n",
    "from tensorflow.keras.optimizers import Adam\n",
    "\n",
    "# HP tuners\n",
    "from tensorflow.keras.optimizers.schedules import ExponentialDecay\n",
    "# Performancec evaluation\n",
    "from sklearn.metrics import confusion_matrix\n",
    "from sklearn.metrics import classification_report"
   ]
  },
  {
   "cell_type": "code",
   "execution_count": 9,
   "id": "de31c8cd",
   "metadata": {
    "init_cell": true
   },
   "outputs": [],
   "source": [
    "# Creating the dset\n",
    "classes = {0: 'Zero', 1: 'One', 2: 'Two', 3: 'Three', 4: 'Four', 5: 'Five', \n",
    "          6: 'Six', 7: 'Seven', 8: 'Eight', 9: 'Nine'}\n",
    "\n",
    "def getClassDistribution(mode, classes=classes):\n",
    "    \"\"\"Return a pandas dataframe with class distribution information.\"\"\"\n",
    "    class_frequencies  = [list(mode).count(label) for label in classes.keys()]\n",
    "    class_distribution = [count/len(list(mode)) for count in class_frequencies]\n",
    "    data = {\n",
    "        'value_count' : class_frequencies,\n",
    "        'distribution': class_distribution\n",
    "    }\n",
    "    table = pd.DataFrame(data)\n",
    "    return table"
   ]
  },
  {
   "cell_type": "code",
   "execution_count": 10,
   "id": "61937dfb",
   "metadata": {
    "code_folding": [],
    "init_cell": true
   },
   "outputs": [
    {
     "name": "stdout",
     "output_type": "stream",
     "text": [
      "(42000, 28, 28, 1) (42000, 10)\n"
     ]
    }
   ],
   "source": [
    "df = pd.read_csv('train.csv').to_numpy()\n",
    "m = df.shape[0]\n",
    "\n",
    "# Init inputs and labels\n",
    "labels = np.array([df[i][0] for i in range(m)]).reshape(-1, 1)\n",
    "images = []\n",
    "for index in range(m):\n",
    "    start = 1\n",
    "    stop  = 29 \n",
    "    image = np.zeros((28, 28))\n",
    "    for row in range(28):\n",
    "        image[row] = df[index, start:stop]\n",
    "        start = stop\n",
    "        stop  = start + 28\n",
    "    images.append(image)\n",
    "images = np.array(images)\n",
    "images = images.reshape(-1, 28, 28, 1)\n",
    "labels = to_categorical(labels)\n",
    "print(images.shape, labels.shape)"
   ]
  },
  {
   "cell_type": "code",
   "execution_count": 19,
   "id": "2344f71b",
   "metadata": {},
   "outputs": [],
   "source": [
    "# Visualize random images from the dset\n",
    "input_shape = np.shape(images[random.randint(0,42000)])"
   ]
  },
  {
   "cell_type": "code",
   "execution_count": 20,
   "id": "7bc149c5",
   "metadata": {
    "init_cell": true
   },
   "outputs": [],
   "source": [
    "def getClassDistribution(mode):\n",
    "    \"\"\"Return a pandas dataframe with class distribution information.\"\"\"\n",
    "    mode = list(np.argmax(mode, axis=1))\n",
    "    class_frequencies  = [mode.count(label) for label in classes.keys()]\n",
    "    class_distribution = [count/len(mode) for count in class_frequencies]\n",
    "    data = {\n",
    "        'classes'     : classes.values(),\n",
    "        'value_count' : class_frequencies,\n",
    "        'distribution': class_distribution\n",
    "    }\n",
    "    table = pd.DataFrame(data)\n",
    "    return table"
   ]
  },
  {
   "cell_type": "code",
   "execution_count": 21,
   "id": "51de3eef",
   "metadata": {
    "init_cell": true
   },
   "outputs": [],
   "source": [
    "x_Train, x_Test, y_Train, y_Test = train_test_split(\n",
    "    images, labels, test_size=0.10)\n",
    "\n",
    "x_Train, x_Val, y_Train, y_Val = train_test_split(\n",
    "    x_Train, y_Train, test_size=0.11)"
   ]
  },
  {
   "cell_type": "code",
   "execution_count": 22,
   "id": "a1e2f256",
   "metadata": {
    "init_cell": true
   },
   "outputs": [
    {
     "name": "stdout",
     "output_type": "stream",
     "text": [
      "(33642, 28, 28, 1) (33642, 10)\n",
      "(4200, 28, 28, 1) (4200, 10)\n",
      "(4158, 28, 28, 1) (4158, 10)\n"
     ]
    }
   ],
   "source": [
    "print(x_Train.shape, y_Train.shape)\n",
    "print(x_Test.shape, y_Test.shape)\n",
    "print(x_Val.shape, y_Val.shape)"
   ]
  },
  {
   "cell_type": "code",
   "execution_count": 14,
   "id": "9b7dc40e",
   "metadata": {
    "init_cell": true
   },
   "outputs": [
    {
     "data": {
      "text/html": [
       "<div>\n",
       "<style scoped>\n",
       "    .dataframe tbody tr th:only-of-type {\n",
       "        vertical-align: middle;\n",
       "    }\n",
       "\n",
       "    .dataframe tbody tr th {\n",
       "        vertical-align: top;\n",
       "    }\n",
       "\n",
       "    .dataframe thead th {\n",
       "        text-align: right;\n",
       "    }\n",
       "</style>\n",
       "<table border=\"1\" class=\"dataframe\">\n",
       "  <thead>\n",
       "    <tr style=\"text-align: right;\">\n",
       "      <th></th>\n",
       "      <th>classes</th>\n",
       "      <th>value_count</th>\n",
       "      <th>distribution</th>\n",
       "    </tr>\n",
       "  </thead>\n",
       "  <tbody>\n",
       "    <tr>\n",
       "      <th>0</th>\n",
       "      <td>Zero</td>\n",
       "      <td>3285</td>\n",
       "      <td>0.097646</td>\n",
       "    </tr>\n",
       "    <tr>\n",
       "      <th>1</th>\n",
       "      <td>One</td>\n",
       "      <td>3791</td>\n",
       "      <td>0.112687</td>\n",
       "    </tr>\n",
       "    <tr>\n",
       "      <th>2</th>\n",
       "      <td>Two</td>\n",
       "      <td>3299</td>\n",
       "      <td>0.098062</td>\n",
       "    </tr>\n",
       "    <tr>\n",
       "      <th>3</th>\n",
       "      <td>Three</td>\n",
       "      <td>3512</td>\n",
       "      <td>0.104393</td>\n",
       "    </tr>\n",
       "    <tr>\n",
       "      <th>4</th>\n",
       "      <td>Four</td>\n",
       "      <td>3223</td>\n",
       "      <td>0.095803</td>\n",
       "    </tr>\n",
       "    <tr>\n",
       "      <th>5</th>\n",
       "      <td>Five</td>\n",
       "      <td>3020</td>\n",
       "      <td>0.089769</td>\n",
       "    </tr>\n",
       "    <tr>\n",
       "      <th>6</th>\n",
       "      <td>Six</td>\n",
       "      <td>3332</td>\n",
       "      <td>0.099043</td>\n",
       "    </tr>\n",
       "    <tr>\n",
       "      <th>7</th>\n",
       "      <td>Seven</td>\n",
       "      <td>3510</td>\n",
       "      <td>0.104334</td>\n",
       "    </tr>\n",
       "    <tr>\n",
       "      <th>8</th>\n",
       "      <td>Eight</td>\n",
       "      <td>3264</td>\n",
       "      <td>0.097022</td>\n",
       "    </tr>\n",
       "    <tr>\n",
       "      <th>9</th>\n",
       "      <td>Nine</td>\n",
       "      <td>3406</td>\n",
       "      <td>0.101242</td>\n",
       "    </tr>\n",
       "  </tbody>\n",
       "</table>\n",
       "</div>"
      ],
      "text/plain": [
       "  classes  value_count  distribution\n",
       "0    Zero         3285      0.097646\n",
       "1     One         3791      0.112687\n",
       "2     Two         3299      0.098062\n",
       "3   Three         3512      0.104393\n",
       "4    Four         3223      0.095803\n",
       "5    Five         3020      0.089769\n",
       "6     Six         3332      0.099043\n",
       "7   Seven         3510      0.104334\n",
       "8   Eight         3264      0.097022\n",
       "9    Nine         3406      0.101242"
      ]
     },
     "execution_count": 14,
     "metadata": {},
     "output_type": "execute_result"
    }
   ],
   "source": [
    "getClassDistribution(y_Train)"
   ]
  },
  {
   "cell_type": "code",
   "execution_count": 15,
   "id": "b24f0153",
   "metadata": {
    "init_cell": true
   },
   "outputs": [
    {
     "data": {
      "text/html": [
       "<div>\n",
       "<style scoped>\n",
       "    .dataframe tbody tr th:only-of-type {\n",
       "        vertical-align: middle;\n",
       "    }\n",
       "\n",
       "    .dataframe tbody tr th {\n",
       "        vertical-align: top;\n",
       "    }\n",
       "\n",
       "    .dataframe thead th {\n",
       "        text-align: right;\n",
       "    }\n",
       "</style>\n",
       "<table border=\"1\" class=\"dataframe\">\n",
       "  <thead>\n",
       "    <tr style=\"text-align: right;\">\n",
       "      <th></th>\n",
       "      <th>classes</th>\n",
       "      <th>value_count</th>\n",
       "      <th>distribution</th>\n",
       "    </tr>\n",
       "  </thead>\n",
       "  <tbody>\n",
       "    <tr>\n",
       "      <th>0</th>\n",
       "      <td>Zero</td>\n",
       "      <td>433</td>\n",
       "      <td>0.103095</td>\n",
       "    </tr>\n",
       "    <tr>\n",
       "      <th>1</th>\n",
       "      <td>One</td>\n",
       "      <td>453</td>\n",
       "      <td>0.107857</td>\n",
       "    </tr>\n",
       "    <tr>\n",
       "      <th>2</th>\n",
       "      <td>Two</td>\n",
       "      <td>448</td>\n",
       "      <td>0.106667</td>\n",
       "    </tr>\n",
       "    <tr>\n",
       "      <th>3</th>\n",
       "      <td>Three</td>\n",
       "      <td>434</td>\n",
       "      <td>0.103333</td>\n",
       "    </tr>\n",
       "    <tr>\n",
       "      <th>4</th>\n",
       "      <td>Four</td>\n",
       "      <td>414</td>\n",
       "      <td>0.098571</td>\n",
       "    </tr>\n",
       "    <tr>\n",
       "      <th>5</th>\n",
       "      <td>Five</td>\n",
       "      <td>392</td>\n",
       "      <td>0.093333</td>\n",
       "    </tr>\n",
       "    <tr>\n",
       "      <th>6</th>\n",
       "      <td>Six</td>\n",
       "      <td>395</td>\n",
       "      <td>0.094048</td>\n",
       "    </tr>\n",
       "    <tr>\n",
       "      <th>7</th>\n",
       "      <td>Seven</td>\n",
       "      <td>450</td>\n",
       "      <td>0.107143</td>\n",
       "    </tr>\n",
       "    <tr>\n",
       "      <th>8</th>\n",
       "      <td>Eight</td>\n",
       "      <td>400</td>\n",
       "      <td>0.095238</td>\n",
       "    </tr>\n",
       "    <tr>\n",
       "      <th>9</th>\n",
       "      <td>Nine</td>\n",
       "      <td>381</td>\n",
       "      <td>0.090714</td>\n",
       "    </tr>\n",
       "  </tbody>\n",
       "</table>\n",
       "</div>"
      ],
      "text/plain": [
       "  classes  value_count  distribution\n",
       "0    Zero          433      0.103095\n",
       "1     One          453      0.107857\n",
       "2     Two          448      0.106667\n",
       "3   Three          434      0.103333\n",
       "4    Four          414      0.098571\n",
       "5    Five          392      0.093333\n",
       "6     Six          395      0.094048\n",
       "7   Seven          450      0.107143\n",
       "8   Eight          400      0.095238\n",
       "9    Nine          381      0.090714"
      ]
     },
     "execution_count": 15,
     "metadata": {},
     "output_type": "execute_result"
    }
   ],
   "source": [
    "getClassDistribution(y_Test)"
   ]
  },
  {
   "cell_type": "code",
   "execution_count": 29,
   "id": "a17635f7",
   "metadata": {
    "init_cell": true
   },
   "outputs": [
    {
     "name": "stdout",
     "output_type": "stream",
     "text": [
      "Model: \"sequential_4\"\n",
      "_________________________________________________________________\n",
      " Layer (type)                Output Shape              Param #   \n",
      "=================================================================\n",
      " conv2d_14 (Conv2D)          (None, 28, 28, 2)         20        \n",
      "                                                                 \n",
      " conv2d_15 (Conv2D)          (None, 28, 28, 4)         76        \n",
      "                                                                 \n",
      " conv2d_16 (Conv2D)          (None, 28, 28, 8)         296       \n",
      "                                                                 \n",
      " conv2d_17 (Conv2D)          (None, 28, 28, 12)        876       \n",
      "                                                                 \n",
      " conv2d_18 (Conv2D)          (None, 28, 28, 16)        1744      \n",
      "                                                                 \n",
      " global_max_pooling2d_4 (Glo  (None, 16)               0         \n",
      " balMaxPooling2D)                                                \n",
      "                                                                 \n",
      " flatten_4 (Flatten)         (None, 16)                0         \n",
      "                                                                 \n",
      " dense_4 (Dense)             (None, 10)                170       \n",
      "                                                                 \n",
      "=================================================================\n",
      "Total params: 3,182\n",
      "Trainable params: 3,182\n",
      "Non-trainable params: 0\n",
      "_________________________________________________________________\n"
     ]
    }
   ],
   "source": [
    "mymodel = Sequential()\n",
    "mymodel.add(Conv2D(input_shape=(28,28,1), filters=2,\n",
    "                   kernel_size=3, padding='same', activation='relu'))\n",
    "mymodel.add(Conv2D(filters=4, kernel_size=3, padding='same', activation='relu'))\n",
    "mymodel.add(Conv2D(filters=8, kernel_size=3, padding='same', activation='relu'))\n",
    "mymodel.add(Conv2D(filters=12, kernel_size=3, padding='same', activation='relu'))\n",
    "mymodel.add(Conv2D(filters=16, kernel_size=3, padding='same', activation='relu'))\n",
    "mymodel.add(GlobalMaxPooling2D())\n",
    "mymodel.add(Flatten())\n",
    "mymodel.add(Dense(units=10, activation=Softmax()))\n",
    "mymodel.compile(optimizer=Adam(), loss='categorical_crossentropy',\n",
    "                metrics='accuracy')\n",
    "mymodel.summary()"
   ]
  },
  {
   "cell_type": "code",
   "execution_count": 30,
   "id": "428a6192",
   "metadata": {},
   "outputs": [
    {
     "name": "stdout",
     "output_type": "stream",
     "text": [
      "Epoch 1/10\n",
      "1052/1052 [==============================] - 11s 10ms/step - loss: 1.6952 - accuracy: 0.5694 - val_loss: 0.7699 - val_accuracy: 0.7607\n",
      "Epoch 2/10\n",
      "1052/1052 [==============================] - 11s 10ms/step - loss: 0.5886 - accuracy: 0.8184 - val_loss: 0.4518 - val_accuracy: 0.8600\n",
      "Epoch 3/10\n",
      "1052/1052 [==============================] - 11s 10ms/step - loss: 0.3979 - accuracy: 0.8770 - val_loss: 0.4196 - val_accuracy: 0.8634\n",
      "Epoch 4/10\n",
      "1052/1052 [==============================] - 11s 10ms/step - loss: 0.3040 - accuracy: 0.9059 - val_loss: 0.2474 - val_accuracy: 0.9209\n",
      "Epoch 5/10\n",
      "1052/1052 [==============================] - 11s 10ms/step - loss: 0.2508 - accuracy: 0.9238 - val_loss: 0.2290 - val_accuracy: 0.9271\n",
      "Epoch 6/10\n",
      "1052/1052 [==============================] - 11s 10ms/step - loss: 0.2133 - accuracy: 0.9346 - val_loss: 0.2513 - val_accuracy: 0.9214\n",
      "Epoch 7/10\n",
      "1052/1052 [==============================] - 11s 10ms/step - loss: 0.1959 - accuracy: 0.9396 - val_loss: 0.1955 - val_accuracy: 0.9348\n",
      "Epoch 8/10\n",
      "1052/1052 [==============================] - 11s 10ms/step - loss: 0.1778 - accuracy: 0.9451 - val_loss: 0.1982 - val_accuracy: 0.9367\n",
      "Epoch 9/10\n",
      "1052/1052 [==============================] - 11s 10ms/step - loss: 0.1630 - accuracy: 0.9496 - val_loss: 0.1434 - val_accuracy: 0.9545\n",
      "Epoch 10/10\n",
      "1052/1052 [==============================] - 11s 10ms/step - loss: 0.1509 - accuracy: 0.9535 - val_loss: 0.1491 - val_accuracy: 0.9553\n"
     ]
    },
    {
     "data": {
      "text/plain": [
       "<keras.callbacks.History at 0x7f91c046ec80>"
      ]
     },
     "execution_count": 30,
     "metadata": {},
     "output_type": "execute_result"
    }
   ],
   "source": [
    "mymodel.fit(x_Train, y_Train, validation_data=(x_Val, y_Val), epochs=10)"
   ]
  },
  {
   "cell_type": "code",
   "execution_count": 35,
   "id": "e910cce1",
   "metadata": {},
   "outputs": [
    {
     "name": "stdout",
     "output_type": "stream",
     "text": [
      "(4200, 10)\n"
     ]
    }
   ],
   "source": [
    "prediction = mymodel.predict(x_Test)\n",
    "print(prediction.shape)"
   ]
  },
  {
   "cell_type": "code",
   "execution_count": 36,
   "id": "d4b2606f",
   "metadata": {},
   "outputs": [],
   "source": [
    "prediction = np.argmax(prediction, axis=1)"
   ]
  },
  {
   "cell_type": "code",
   "execution_count": 37,
   "id": "29fed3bb",
   "metadata": {},
   "outputs": [
    {
     "name": "stdout",
     "output_type": "stream",
     "text": [
      "(4200,)\n"
     ]
    }
   ],
   "source": [
    "print(prediction.shape)"
   ]
  },
  {
   "cell_type": "code",
   "execution_count": 38,
   "id": "77548623",
   "metadata": {},
   "outputs": [],
   "source": [
    "actual = np.argmax(y_Test, axis=1)\n",
    "classificationReport = classification_report(actual, prediction, zero_division=0)"
   ]
  },
  {
   "cell_type": "code",
   "execution_count": 39,
   "id": "a1c36d36",
   "metadata": {},
   "outputs": [
    {
     "name": "stdout",
     "output_type": "stream",
     "text": [
      "              precision    recall  f1-score   support\n",
      "\n",
      "           0       0.92      0.98      0.95       387\n",
      "           1       0.99      0.98      0.98       493\n",
      "           2       0.90      0.94      0.92       410\n",
      "           3       0.96      0.96      0.96       425\n",
      "           4       0.97      0.97      0.97       422\n",
      "           5       0.95      0.94      0.94       363\n",
      "           6       0.98      0.95      0.96       450\n",
      "           7       0.96      0.97      0.96       418\n",
      "           8       0.96      0.90      0.93       395\n",
      "           9       0.94      0.94      0.94       437\n",
      "\n",
      "    accuracy                           0.95      4200\n",
      "   macro avg       0.95      0.95      0.95      4200\n",
      "weighted avg       0.95      0.95      0.95      4200\n",
      "\n"
     ]
    }
   ],
   "source": [
    "print(classificationReport)"
   ]
  }
 ],
 "metadata": {
  "celltoolbar": "Initialization Cell",
  "kernelspec": {
   "display_name": "Python 3 (ipykernel)",
   "language": "python",
   "name": "python3"
  },
  "language_info": {
   "codemirror_mode": {
    "name": "ipython",
    "version": 3
   },
   "file_extension": ".py",
   "mimetype": "text/x-python",
   "name": "python",
   "nbconvert_exporter": "python",
   "pygments_lexer": "ipython3",
   "version": "3.10.4"
  }
 },
 "nbformat": 4,
 "nbformat_minor": 5
}
